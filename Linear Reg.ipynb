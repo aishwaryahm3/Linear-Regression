{
 "cells": [
  {
   "cell_type": "code",
   "execution_count": 1,
   "id": "5898c610",
   "metadata": {},
   "outputs": [],
   "source": [
    "import numpy as np\n",
    "import matplotlib.pyplot as plt"
   ]
  },
  {
   "cell_type": "code",
   "execution_count": 26,
   "id": "93ceeca2",
   "metadata": {},
   "outputs": [],
   "source": [
    "def estimate_cof(x,y):\n",
    "    n = np.size(x)\n",
    "    mean_x,mean_y = np.mean(x),np.mean(y)\n",
    "    #sum of square errors\n",
    "    SS_xy = np.sum(y*x - n*mean_y*mean_x)\n",
    "    SS_xx = np.sum(x*x - n*mean_x*mean_x)\n",
    "    \n",
    "    #calculating m in y=mx+c\n",
    "    m = SS_xy/SS_xx\n",
    "    \n",
    "    #calculating c in y=mx+c\n",
    "    #c = y-mx\n",
    "    c = mean_y - (m*mean_x)\n",
    "    \n",
    "    return(c,m)\n"
   ]
  },
  {
   "cell_type": "code",
   "execution_count": 28,
   "id": "84553923",
   "metadata": {},
   "outputs": [],
   "source": [
    "def plot_Reg_Line(x,y,b):\n",
    "    plt.scatter(x,y,color = 'blue',marker='o')\n",
    "    y_pred = b[0] + b[1]*x\n",
    "    plt.plot(x,y_pred,color='g')\n",
    "    plt.xlabel('Size')\n",
    "    plt.ylabel('Cost')\n",
    "    plt.show()"
   ]
  },
  {
   "cell_type": "code",
   "execution_count": 29,
   "id": "a7021b84",
   "metadata": {},
   "outputs": [
    {
     "name": "stdout",
     "output_type": "stream",
     "text": [
      "Est cof: \n",
      " m=-7.5 \n",
      " c =137.72727272727272 \n"
     ]
    },
    {
     "data": {
      "image/png": "[encoded data removed]",
      "text/plain": [
       "<Figure size 432x288 with 1 Axes>"
      ]
     },
     "metadata": {
      "needs_background": "light"
     },
     "output_type": "display_data"
    }
   ],
   "source": [
    "#house sizes represented in k sq.feet\n",
    "x = np.array([1,2,3,4,5,6,7,8,9,10])\n",
    "\n",
    "#cost of the house in k\n",
    "y = np.array([300,350,500,700,800,850,900,900,1000,1200])\n",
    "\n",
    "b = estimate_cof(x,y)\n",
    "print(\"Est cof: \\n m={} \\n c ={} \".format(b[0],b[1]))\n",
    "plot_Reg_Line(x,y,b)"
   ]
  },
  {
   "cell_type": "code",
   "execution_count": null,
   "id": "6be6ccd4",
   "metadata": {},
   "outputs": [],
   "source": []
  }
 ],
 "metadata": {
  "kernelspec": {
   "display_name": "Python 3 (ipykernel)",
   "language": "python",
   "name": "python3"
  },
  "language_info": {
   "codemirror_mode": {
    "name": "ipython",
    "version": 3
   },
   "file_extension": ".py",
   "mimetype": "text/x-python",
   "name": "python",
   "nbconvert_exporter": "python",
   "pygments_lexer": "ipython3",
   "version": "3.9.7"
  }
 },
 "nbformat": 4,
 "nbformat_minor": 5
}
